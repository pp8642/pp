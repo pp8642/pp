{
 "cells": [
  {
   "cell_type": "code",
   "execution_count": 138,
   "metadata": {},
   "outputs": [],
   "source": [
    "import pandas as pd\n",
    "import matplotlib.pyplot as plt\n",
    "import pickle\n",
    "import seaborn as sns\n",
    "import nltk\n",
    "from nltk.corpus import stopwords\n",
    "import nltk\n",
    "import re\n",
    "from nltk.corpus import stopwords\n",
    "from nltk.stem import SnowballStemmer\n",
    "from nltk.stem import WordNetLemmatizer\n",
    "from string import punctuation\n",
    "from autocorrect import spell\n",
    "\n",
    "from nltk.stem import WordNetLemmatizer\n",
    "from sklearn.feature_extraction.text import TfidfVectorizer\n",
    "from sklearn.model_selection import train_test_split\n",
    "from sklearn.metrics import accuracy_score, classification_report\n",
    "from sklearn.linear_model import LogisticRegression\n",
    "from sklearn.tree import DecisionTreeClassifier\n",
    "from sklearn.neighbors import KNeighborsClassifier\n",
    "from sklearn.discriminant_analysis import LinearDiscriminantAnalysis\n",
    "from sklearn.naive_bayes import GaussianNB\n",
    "from sklearn.svm import SVC\n",
    "from nltk.tokenize import word_tokenize \n",
    "\n",
    "import re\n",
    "import warnings\n",
    "warnings.filterwarnings(\"ignore\")"
   ]
  },
  {
   "cell_type": "code",
   "execution_count": 139,
   "metadata": {},
   "outputs": [],
   "source": [
    "data = pd.read_csv(\"https://raw.githubusercontent.com/pp8642/pp/main/newsdataset%20-%20Sheet1%20(3).csv\")"
   ]
  },
  {
   "cell_type": "code",
   "execution_count": 140,
   "metadata": {},
   "outputs": [
    {
     "data": {
      "text/html": [
       "<div>\n",
       "<style scoped>\n",
       "    .dataframe tbody tr th:only-of-type {\n",
       "        vertical-align: middle;\n",
       "    }\n",
       "\n",
       "    .dataframe tbody tr th {\n",
       "        vertical-align: top;\n",
       "    }\n",
       "\n",
       "    .dataframe thead th {\n",
       "        text-align: right;\n",
       "    }\n",
       "</style>\n",
       "<table border=\"1\" class=\"dataframe\">\n",
       "  <thead>\n",
       "    <tr style=\"text-align: right;\">\n",
       "      <th></th>\n",
       "      <th>Text</th>\n",
       "      <th>category</th>\n",
       "    </tr>\n",
       "  </thead>\n",
       "  <tbody>\n",
       "    <tr>\n",
       "      <th>0</th>\n",
       "      <td>tv future in the hands of viewers with home th...</td>\n",
       "      <td>technology</td>\n",
       "    </tr>\n",
       "    <tr>\n",
       "      <th>1</th>\n",
       "      <td>Microsoft Is Retiring Internet Explorer in 202...</td>\n",
       "      <td>technology</td>\n",
       "    </tr>\n",
       "    <tr>\n",
       "      <th>2</th>\n",
       "      <td>Cryptocurrency Market Sees a Massive Dip as Bi...</td>\n",
       "      <td>technology</td>\n",
       "    </tr>\n",
       "    <tr>\n",
       "      <th>3</th>\n",
       "      <td>NASA Releases Stunning Image Of Huge Glacier M...</td>\n",
       "      <td>technology</td>\n",
       "    </tr>\n",
       "    <tr>\n",
       "      <th>4</th>\n",
       "      <td>OnePlus 9R Getting OxygenOS 11.2.1.2 in India ...</td>\n",
       "      <td>technology</td>\n",
       "    </tr>\n",
       "  </tbody>\n",
       "</table>\n",
       "</div>"
      ],
      "text/plain": [
       "                                                Text    category\n",
       "0  tv future in the hands of viewers with home th...  technology\n",
       "1  Microsoft Is Retiring Internet Explorer in 202...  technology\n",
       "2  Cryptocurrency Market Sees a Massive Dip as Bi...  technology\n",
       "3  NASA Releases Stunning Image Of Huge Glacier M...  technology\n",
       "4  OnePlus 9R Getting OxygenOS 11.2.1.2 in India ...  technology"
      ]
     },
     "execution_count": 140,
     "metadata": {},
     "output_type": "execute_result"
    }
   ],
   "source": [
    "data.head()"
   ]
  },
  {
   "cell_type": "markdown",
   "metadata": {},
   "source": [
    "# Understanding Features and Target Variables"
   ]
  },
  {
   "cell_type": "code",
   "execution_count": 141,
   "metadata": {},
   "outputs": [
    {
     "data": {
      "text/plain": [
       "array(['technology', 'politics', 'sports', 'entertainment', 'business',\n",
       "       'health'], dtype=object)"
      ]
     },
     "execution_count": 141,
     "metadata": {},
     "output_type": "execute_result"
    }
   ],
   "source": [
    "data['category'].unique()"
   ]
  },
  {
   "cell_type": "code",
   "execution_count": 142,
   "metadata": {},
   "outputs": [
    {
     "data": {
      "text/plain": [
       "(1530, 2)"
      ]
     },
     "execution_count": 142,
     "metadata": {},
     "output_type": "execute_result"
    }
   ],
   "source": [
    "data.shape"
   ]
  },
  {
   "cell_type": "code",
   "execution_count": 143,
   "metadata": {},
   "outputs": [
    {
     "data": {
      "text/plain": [
       "Text        object\n",
       "category    object\n",
       "dtype: object"
      ]
     },
     "execution_count": 143,
     "metadata": {},
     "output_type": "execute_result"
    }
   ],
   "source": [
    "data.dtypes"
   ]
  },
  {
   "cell_type": "markdown",
   "metadata": {},
   "source": [
    "# Checking for NULL values"
   ]
  },
  {
   "cell_type": "code",
   "execution_count": 144,
   "metadata": {},
   "outputs": [
    {
     "data": {
      "text/plain": [
       "Text        False\n",
       "category    False\n",
       "dtype: bool"
      ]
     },
     "execution_count": 144,
     "metadata": {},
     "output_type": "execute_result"
    }
   ],
   "source": [
    "data.isnull().any()"
   ]
  },
  {
   "cell_type": "markdown",
   "metadata": {},
   "source": [
    "# Countplot of Target Variable(Category)"
   ]
  },
  {
   "cell_type": "code",
   "execution_count": 145,
   "metadata": {},
   "outputs": [
    {
     "data": {
      "text/plain": [
       "<AxesSubplot:xlabel='category', ylabel='count'>"
      ]
     },
     "execution_count": 145,
     "metadata": {},
     "output_type": "execute_result"
    },
    {
     "data": {
      "image/png": "[encoded data removed]",
      "text/plain": [
       "<Figure size 432x288 with 1 Axes>"
      ]
     },
     "metadata": {
      "needs_background": "light"
     },
     "output_type": "display_data"
    }
   ],
   "source": [
    "sns.countplot(data.category)"
   ]
  },
  {
   "cell_type": "code",
   "execution_count": 146,
   "metadata": {},
   "outputs": [
    {
     "name": "stdout",
     "output_type": "stream",
     "text": [
      "0       101\n",
      "1        88\n",
      "2       106\n",
      "3        96\n",
      "4        87\n",
      "       ... \n",
      "1525     59\n",
      "1526     48\n",
      "1527     57\n",
      "1528     39\n",
      "1529     45\n",
      "Name: News_length, Length: 1530, dtype: int64\n"
     ]
    }
   ],
   "source": [
    "data['News_length'] = data['Text'].str.len()\n",
    "print(data['News_length'])"
   ]
  },
  {
   "cell_type": "markdown",
   "metadata": {},
   "source": [
    "# Distribution Plot"
   ]
  },
  {
   "cell_type": "code",
   "execution_count": 147,
   "metadata": {},
   "outputs": [
    {
     "data": {
      "image/png": "[encoded data removed]",
      "text/plain": [
       "<Figure size 432x288 with 1 Axes>"
      ]
     },
     "metadata": {
      "needs_background": "light"
     },
     "output_type": "display_data"
    }
   ],
   "source": [
    "sns.distplot(data['News_length']).set_title('News length distribution');\n"
   ]
  },
  {
   "cell_type": "markdown",
   "metadata": {},
   "source": [
    "# WordCloud"
   ]
  },
  {
   "cell_type": "code",
   "execution_count": 148,
   "metadata": {},
   "outputs": [],
   "source": [
    "def create_wordcloud(words):\n",
    "    wordcloud = WordCloud(width=800, height=500, random_state=21, max_font_size=110).generate(words)\n",
    "    plt.figure(figsize=(10, 7))\n",
    "    plt.imshow(wordcloud, interpolation=\"bilinear\")\n",
    "    plt.axis('off')\n",
    "    plt.show()"
   ]
  },
  {
   "cell_type": "code",
   "execution_count": 149,
   "metadata": {},
   "outputs": [],
   "source": [
    "subset=data[data.category==\"business\"]\n",
    "text=subset.Text.values\n",
    "words =\" \".join(text)\n",
    "# create_wordcloud(words)"
   ]
  },
  {
   "cell_type": "code",
   "execution_count": 150,
   "metadata": {},
   "outputs": [],
   "source": [
    "subset=data[data.category==\"entertainment\"]\n",
    "text=subset.Text.values\n",
    "words =\" \".join(text)\n",
    "# create_wordcloud(words)"
   ]
  },
  {
   "cell_type": "code",
   "execution_count": 151,
   "metadata": {},
   "outputs": [],
   "source": [
    "subset=data[data.category==\"politics\"]\n",
    "text=subset.Text.values\n",
    "words =\" \".join(text)\n",
    "# create_wordcloud(words)"
   ]
  },
  {
   "cell_type": "code",
   "execution_count": 152,
   "metadata": {},
   "outputs": [],
   "source": [
    "subset=data[data.category==\"sport\"]\n",
    "text=subset.Text.values\n",
    "words =\" \".join(text)\n",
    "# create_wordcloud(words)"
   ]
  },
  {
   "cell_type": "code",
   "execution_count": 153,
   "metadata": {},
   "outputs": [],
   "source": [
    "subset=data[data.category==\"tech\"]\n",
    "text=subset.Text.values\n",
    "words =\" \".join(text)\n",
    "# create_wordcloud(words)"
   ]
  },
  {
   "cell_type": "markdown",
   "metadata": {},
   "source": [
    "# Feature Engineering"
   ]
  },
  {
   "cell_type": "markdown",
   "metadata": {},
   "source": [
    "Removing the special characters<br>\n",
    "1) \\r<br>\n",
    "2) \\n<br>\n",
    "\n",
    "Removing Punctuations and Stopwords"
   ]
  },
  {
   "cell_type": "code",
   "execution_count": 154,
   "metadata": {},
   "outputs": [],
   "source": [
    "\n",
    "snowball_stemmer = SnowballStemmer('english')\n",
    "wordnet_lemmatizer = WordNetLemmatizer()\n",
    "\n",
    "class Preprocess:\n",
    "    def __int__(self):\n",
    "        pass\n",
    "\n",
    "    def autospell(self,text):\n",
    "        \"\"\"\n",
    "        correct the spelling of the word.\n",
    "        \"\"\"\n",
    "        spells = [spell(w) for w in (nltk.word_tokenize(text))]\n",
    "        return \" \".join(spells)\n",
    "\n",
    "    def to_lower(self,text):\n",
    "        \"\"\"\n",
    "        :param text:\n",
    "        :return:\n",
    "            Converted text to lower case as in, converting \"Hello\" to \"hello\" or \"HELLO\" to \"hello\".\n",
    "        \"\"\"\n",
    "        return text.lower()\n",
    "\n",
    "    def remove_numbers(self,text):\n",
    "        \"\"\"\n",
    "        take string input and return a clean text without numbers.\n",
    "        Use regex to discard the numbers.\n",
    "        \"\"\"\n",
    "        output = ''.join(c for c in text if not c.isdigit())\n",
    "        return output\n",
    "\n",
    "    def remove_punct(self,text):\n",
    "        \"\"\"\n",
    "        take string input and clean string without punctuations.\n",
    "        use regex to remove the punctuations.\n",
    "        \"\"\"\n",
    "        return ''.join(c for c in text if c not in punctuation)\n",
    "\n",
    "    def remove_Tags(self,text):\n",
    "        \"\"\"\n",
    "        take string input and clean string without tags.\n",
    "        use regex to remove the html tags.\n",
    "        \"\"\"\n",
    "        cleaned_text = re.sub('<[^<]+?>', '', text)\n",
    "        return cleaned_text\n",
    "\n",
    "    def sentence_tokenize(self,text):\n",
    "        \"\"\"\n",
    "        take string input and return list of sentences.\n",
    "        use nltk.sent_tokenize() to split the sentences.\n",
    "        \"\"\"\n",
    "        sent_list = []\n",
    "        for w in nltk.sent_tokenize(text):\n",
    "            sent_list.append(w)\n",
    "        return sent_list\n",
    "\n",
    "    def word_tokenize(self,text):\n",
    "        \"\"\"\n",
    "        :param text:\n",
    "        :return: list of words\n",
    "        \"\"\"\n",
    "        return [w for sent in nltk.sent_tokenize(text) for w in nltk.word_tokenize(sent)]\n",
    "\n",
    "    def remove_stopwords(self,sentence):\n",
    "        \"\"\"\n",
    "        removes all the stop words like \"is,the,a, etc.\"\n",
    "        \"\"\"\n",
    "        stop_words = stopwords.words('english')\n",
    "        return ' '.join([w for w in nltk.word_tokenize(sentence) if not w in stop_words])\n",
    "\n",
    "    def stem(self,text):\n",
    "        \"\"\"\n",
    "        :param word_tokens:\n",
    "        :return: list of words\n",
    "        \"\"\"\n",
    "        stemmed_word = [snowball_stemmer.stem(word) for sent in nltk.sent_tokenize(text)for word in nltk.word_tokenize(sent)]\n",
    "        return \" \".join(stemmed_word)\n",
    "\n",
    "    def lemmatize(self,text):\n",
    "        lemmatized_word = [wordnet_lemmatizer.lemmatize(word)for sent in nltk.sent_tokenize(text)for word in nltk.word_tokenize(sent)]\n",
    "        return \" \".join(lemmatized_word)\n",
    "\n",
    "\n",
    "    def preprocess(self,text):\n",
    "        lower_text = self.to_lower(text)\n",
    "        sentence_tokens = self.sentence_tokenize(lower_text)\n",
    "        word_list = []\n",
    "        for each_sent in sentence_tokens:\n",
    "            lemmatizzed_sent = self.lemmatize(each_sent)\n",
    "            clean_text = self.remove_numbers(lemmatizzed_sent)\n",
    "            clean_text = self.remove_punct(clean_text)\n",
    "            clean_text = self.remove_Tags(clean_text)\n",
    "            clean_text = self.remove_stopwords(clean_text)\n",
    "            word_tokens = self.word_tokenize(clean_text)\n",
    "            for i in word_tokens:\n",
    "                word_list.append(i)\n",
    "        return word_list"
   ]
  },
  {
   "cell_type": "code",
   "execution_count": 155,
   "metadata": {},
   "outputs": [],
   "source": [
    "data['Text_parsed'] = data['Text'].apply(process_text)"
   ]
  },
  {
   "cell_type": "code",
   "execution_count": 156,
   "metadata": {
    "scrolled": true
   },
   "outputs": [
    {
     "data": {
      "text/html": [
       "<div>\n",
       "<style scoped>\n",
       "    .dataframe tbody tr th:only-of-type {\n",
       "        vertical-align: middle;\n",
       "    }\n",
       "\n",
       "    .dataframe tbody tr th {\n",
       "        vertical-align: top;\n",
       "    }\n",
       "\n",
       "    .dataframe thead th {\n",
       "        text-align: right;\n",
       "    }\n",
       "</style>\n",
       "<table border=\"1\" class=\"dataframe\">\n",
       "  <thead>\n",
       "    <tr style=\"text-align: right;\">\n",
       "      <th></th>\n",
       "      <th>Text</th>\n",
       "      <th>category</th>\n",
       "      <th>News_length</th>\n",
       "      <th>Text_parsed</th>\n",
       "    </tr>\n",
       "  </thead>\n",
       "  <tbody>\n",
       "    <tr>\n",
       "      <th>0</th>\n",
       "      <td>tv future in the hands of viewers with home th...</td>\n",
       "      <td>technology</td>\n",
       "      <td>101</td>\n",
       "      <td>tv future in the hands of viewers with home th...</td>\n",
       "    </tr>\n",
       "    <tr>\n",
       "      <th>1</th>\n",
       "      <td>Microsoft Is Retiring Internet Explorer in 202...</td>\n",
       "      <td>technology</td>\n",
       "      <td>88</td>\n",
       "      <td>Microsoft Is Retiring Internet Explorer in 202...</td>\n",
       "    </tr>\n",
       "    <tr>\n",
       "      <th>2</th>\n",
       "      <td>Cryptocurrency Market Sees a Massive Dip as Bi...</td>\n",
       "      <td>technology</td>\n",
       "      <td>106</td>\n",
       "      <td>Cryptocurrency Market Sees a Massive Dip as Bi...</td>\n",
       "    </tr>\n",
       "    <tr>\n",
       "      <th>3</th>\n",
       "      <td>NASA Releases Stunning Image Of Huge Glacier M...</td>\n",
       "      <td>technology</td>\n",
       "      <td>96</td>\n",
       "      <td>NASA Releases Stunning Image Of Huge Glacier M...</td>\n",
       "    </tr>\n",
       "    <tr>\n",
       "      <th>4</th>\n",
       "      <td>OnePlus 9R Getting OxygenOS 11.2.1.2 in India ...</td>\n",
       "      <td>technology</td>\n",
       "      <td>87</td>\n",
       "      <td>OnePlus 9R Getting OxygenOS 11.2.1.2 in India ...</td>\n",
       "    </tr>\n",
       "  </tbody>\n",
       "</table>\n",
       "</div>"
      ],
      "text/plain": [
       "                                                Text    category  News_length  \\\n",
       "0  tv future in the hands of viewers with home th...  technology          101   \n",
       "1  Microsoft Is Retiring Internet Explorer in 202...  technology           88   \n",
       "2  Cryptocurrency Market Sees a Massive Dip as Bi...  technology          106   \n",
       "3  NASA Releases Stunning Image Of Huge Glacier M...  technology           96   \n",
       "4  OnePlus 9R Getting OxygenOS 11.2.1.2 in India ...  technology           87   \n",
       "\n",
       "                                         Text_parsed  \n",
       "0  tv future in the hands of viewers with home th...  \n",
       "1  Microsoft Is Retiring Internet Explorer in 202...  \n",
       "2  Cryptocurrency Market Sees a Massive Dip as Bi...  \n",
       "3  NASA Releases Stunning Image Of Huge Glacier M...  \n",
       "4  OnePlus 9R Getting OxygenOS 11.2.1.2 in India ...  "
      ]
     },
     "execution_count": 156,
     "metadata": {},
     "output_type": "execute_result"
    }
   ],
   "source": [
    "data.head()"
   ]
  },
  {
   "cell_type": "markdown",
   "metadata": {},
   "source": [
    "# Label Encoding"
   ]
  },
  {
   "cell_type": "code",
   "execution_count": 157,
   "metadata": {},
   "outputs": [],
   "source": [
    "from sklearn import preprocessing \n",
    "label_encoder = preprocessing.LabelEncoder() \n",
    "data['category_target']= label_encoder.fit_transform(data['category']) "
   ]
  },
  {
   "cell_type": "code",
   "execution_count": 158,
   "metadata": {},
   "outputs": [
    {
     "data": {
      "text/html": [
       "<div>\n",
       "<style scoped>\n",
       "    .dataframe tbody tr th:only-of-type {\n",
       "        vertical-align: middle;\n",
       "    }\n",
       "\n",
       "    .dataframe tbody tr th {\n",
       "        vertical-align: top;\n",
       "    }\n",
       "\n",
       "    .dataframe thead th {\n",
       "        text-align: right;\n",
       "    }\n",
       "</style>\n",
       "<table border=\"1\" class=\"dataframe\">\n",
       "  <thead>\n",
       "    <tr style=\"text-align: right;\">\n",
       "      <th></th>\n",
       "      <th>Text</th>\n",
       "      <th>category</th>\n",
       "      <th>News_length</th>\n",
       "      <th>Text_parsed</th>\n",
       "      <th>category_target</th>\n",
       "    </tr>\n",
       "  </thead>\n",
       "  <tbody>\n",
       "    <tr>\n",
       "      <th>0</th>\n",
       "      <td>tv future in the hands of viewers with home th...</td>\n",
       "      <td>technology</td>\n",
       "      <td>101</td>\n",
       "      <td>tv future in the hands of viewers with home th...</td>\n",
       "      <td>5</td>\n",
       "    </tr>\n",
       "    <tr>\n",
       "      <th>1</th>\n",
       "      <td>Microsoft Is Retiring Internet Explorer in 202...</td>\n",
       "      <td>technology</td>\n",
       "      <td>88</td>\n",
       "      <td>Microsoft Is Retiring Internet Explorer in 202...</td>\n",
       "      <td>5</td>\n",
       "    </tr>\n",
       "    <tr>\n",
       "      <th>2</th>\n",
       "      <td>Cryptocurrency Market Sees a Massive Dip as Bi...</td>\n",
       "      <td>technology</td>\n",
       "      <td>106</td>\n",
       "      <td>Cryptocurrency Market Sees a Massive Dip as Bi...</td>\n",
       "      <td>5</td>\n",
       "    </tr>\n",
       "    <tr>\n",
       "      <th>3</th>\n",
       "      <td>NASA Releases Stunning Image Of Huge Glacier M...</td>\n",
       "      <td>technology</td>\n",
       "      <td>96</td>\n",
       "      <td>NASA Releases Stunning Image Of Huge Glacier M...</td>\n",
       "      <td>5</td>\n",
       "    </tr>\n",
       "    <tr>\n",
       "      <th>4</th>\n",
       "      <td>OnePlus 9R Getting OxygenOS 11.2.1.2 in India ...</td>\n",
       "      <td>technology</td>\n",
       "      <td>87</td>\n",
       "      <td>OnePlus 9R Getting OxygenOS 11.2.1.2 in India ...</td>\n",
       "      <td>5</td>\n",
       "    </tr>\n",
       "  </tbody>\n",
       "</table>\n",
       "</div>"
      ],
      "text/plain": [
       "                                                Text    category  News_length  \\\n",
       "0  tv future in the hands of viewers with home th...  technology          101   \n",
       "1  Microsoft Is Retiring Internet Explorer in 202...  technology           88   \n",
       "2  Cryptocurrency Market Sees a Massive Dip as Bi...  technology          106   \n",
       "3  NASA Releases Stunning Image Of Huge Glacier M...  technology           96   \n",
       "4  OnePlus 9R Getting OxygenOS 11.2.1.2 in India ...  technology           87   \n",
       "\n",
       "                                         Text_parsed  category_target  \n",
       "0  tv future in the hands of viewers with home th...                5  \n",
       "1  Microsoft Is Retiring Internet Explorer in 202...                5  \n",
       "2  Cryptocurrency Market Sees a Massive Dip as Bi...                5  \n",
       "3  NASA Releases Stunning Image Of Huge Glacier M...                5  \n",
       "4  OnePlus 9R Getting OxygenOS 11.2.1.2 in India ...                5  "
      ]
     },
     "execution_count": 158,
     "metadata": {},
     "output_type": "execute_result"
    }
   ],
   "source": [
    "data.head()"
   ]
  },
  {
   "cell_type": "code",
   "execution_count": 159,
   "metadata": {},
   "outputs": [],
   "source": [
    "data.to_csv('data_processed.csv')"
   ]
  },
  {
   "cell_type": "markdown",
   "metadata": {},
   "source": [
    "# Split the data in Training and testing"
   ]
  },
  {
   "cell_type": "code",
   "execution_count": 160,
   "metadata": {},
   "outputs": [],
   "source": [
    "X_train, X_test, y_train, y_test = train_test_split(data['Text_parsed'], \n",
    "                                                    data['category_target'], \n",
    "                                                    test_size=0.2, \n",
    "                                                    random_state=8)"
   ]
  },
  {
   "cell_type": "code",
   "execution_count": 161,
   "metadata": {},
   "outputs": [],
   "source": [
    "ngram_range = (1,2)\n",
    "min_df = 10\n",
    "max_df = 1.\n",
    "max_features = 300"
   ]
  },
  {
   "cell_type": "code",
   "execution_count": 162,
   "metadata": {},
   "outputs": [
    {
     "name": "stdout",
     "output_type": "stream",
     "text": [
      "[[0. 0. 0. ... 0. 0. 0.]\n",
      " [0. 0. 0. ... 0. 0. 0.]\n",
      " [0. 0. 0. ... 0. 0. 0.]\n",
      " ...\n",
      " [0. 0. 0. ... 0. 0. 0.]\n",
      " [0. 0. 0. ... 0. 0. 0.]\n",
      " [0. 0. 0. ... 0. 0. 0.]]\n",
      "(306, 196)\n"
     ]
    }
   ],
   "source": [
    "tfidf = TfidfVectorizer(encoding='utf-8',\n",
    "                        ngram_range=ngram_range,\n",
    "                        stop_words=None,\n",
    "                        lowercase=False,\n",
    "                        max_df=max_df,\n",
    "                        min_df=min_df,\n",
    "                        max_features=max_features,\n",
    "                        norm='l2',\n",
    "                        sublinear_tf=True)\n",
    "                        \n",
    "features_train = tfidf.fit_transform(X_train).toarray()\n",
    "labels_train = y_train\n",
    "print(features_train)\n",
    "\n",
    "features_test = tfidf.transform(X_test).toarray()\n",
    "labels_test = y_test\n",
    "print(features_test.shape)\n",
    "\n",
    "\n",
    "\n"
   ]
  },
  {
   "cell_type": "markdown",
   "metadata": {},
   "source": [
    "# Building Models"
   ]
  },
  {
   "cell_type": "markdown",
   "metadata": {},
   "source": [
    "# Random Forest"
   ]
  },
  {
   "cell_type": "code",
   "execution_count": 163,
   "metadata": {},
   "outputs": [
    {
     "name": "stdout",
     "output_type": "stream",
     "text": [
      "Accuracy:  0.8562091503267973\n",
      "              precision    recall  f1-score   support\n",
      "\n",
      "           0       0.88      0.76      0.81        46\n",
      "           1       0.89      0.81      0.85        59\n",
      "           2       0.85      0.85      0.85        27\n",
      "           3       0.96      0.85      0.90        52\n",
      "           4       0.79      0.98      0.87        56\n",
      "           5       0.83      0.86      0.84        66\n",
      "\n",
      "    accuracy                           0.86       306\n",
      "   macro avg       0.86      0.85      0.86       306\n",
      "weighted avg       0.86      0.86      0.86       306\n",
      "\n"
     ]
    }
   ],
   "source": [
    "from sklearn.ensemble import RandomForestClassifier\n",
    "model  = RandomForestClassifier(random_state=1)\n",
    "model.fit(features_train, labels_train)\n",
    "model_predictions = model.predict(features_test)\n",
    "print('Accuracy: ', accuracy_score(labels_test, model_predictions))\n",
    "print(classification_report(labels_test, model_predictions))"
   ]
  },
  {
   "cell_type": "code",
   "execution_count": 164,
   "metadata": {},
   "outputs": [
    {
     "data": {
      "text/plain": [
       "{'bootstrap': True,\n",
       " 'ccp_alpha': 0.0,\n",
       " 'class_weight': None,\n",
       " 'criterion': 'gini',\n",
       " 'max_depth': None,\n",
       " 'max_features': 'auto',\n",
       " 'max_leaf_nodes': None,\n",
       " 'max_samples': None,\n",
       " 'min_impurity_decrease': 0.0,\n",
       " 'min_impurity_split': None,\n",
       " 'min_samples_leaf': 1,\n",
       " 'min_samples_split': 2,\n",
       " 'min_weight_fraction_leaf': 0.0,\n",
       " 'n_estimators': 100,\n",
       " 'n_jobs': None,\n",
       " 'oob_score': False,\n",
       " 'random_state': 1,\n",
       " 'verbose': 0,\n",
       " 'warm_start': False}"
      ]
     },
     "execution_count": 164,
     "metadata": {},
     "output_type": "execute_result"
    }
   ],
   "source": [
    "model.get_params()"
   ]
  },
  {
   "cell_type": "markdown",
   "metadata": {},
   "source": [
    "# Hyper Paramater Tuning(Random Forest)"
   ]
  },
  {
   "cell_type": "code",
   "execution_count": 165,
   "metadata": {},
   "outputs": [
    {
     "name": "stdout",
     "output_type": "stream",
     "text": [
      "Fitting 3 folds for each of 500 candidates, totalling 1500 fits\n"
     ]
    }
   ],
   "source": [
    "from sklearn.model_selection import GridSearchCV\n",
    "n_estimators = [100, 300, 500, 800, 1200]\n",
    "max_depth = [5, 8, 15, 25, 30]\n",
    "min_samples_split = [2, 5, 10, 15, 100]\n",
    "min_samples_leaf = [1, 2, 5, 10] \n",
    "\n",
    "hyperF = dict(n_estimators = n_estimators, max_depth = max_depth,  \n",
    "              min_samples_split = min_samples_split, \n",
    "             min_samples_leaf = min_samples_leaf)\n",
    "\n",
    "gridF = GridSearchCV(model, hyperF, cv = 3, verbose = 1, \n",
    "                      n_jobs = -1)\n",
    "bestF = gridF.fit(features_train, labels_train)"
   ]
  },
  {
   "cell_type": "code",
   "execution_count": 166,
   "metadata": {},
   "outputs": [
    {
     "data": {
      "text/plain": [
       "{'max_depth': 30,\n",
       " 'min_samples_leaf': 1,\n",
       " 'min_samples_split': 2,\n",
       " 'n_estimators': 100}"
      ]
     },
     "execution_count": 166,
     "metadata": {},
     "output_type": "execute_result"
    }
   ],
   "source": [
    "bestF.best_params_"
   ]
  },
  {
   "cell_type": "code",
   "execution_count": 167,
   "metadata": {},
   "outputs": [
    {
     "name": "stdout",
     "output_type": "stream",
     "text": [
      "Accuracy:  0.7189542483660131\n",
      "              precision    recall  f1-score   support\n",
      "\n",
      "           0       0.93      0.57      0.70        46\n",
      "           1       0.96      0.76      0.85        59\n",
      "           2       0.81      0.48      0.60        27\n",
      "           3       1.00      0.65      0.79        52\n",
      "           4       0.41      1.00      0.59        56\n",
      "           5       1.00      0.70      0.82        66\n",
      "\n",
      "    accuracy                           0.72       306\n",
      "   macro avg       0.85      0.69      0.73       306\n",
      "weighted avg       0.86      0.72      0.74       306\n",
      "\n"
     ]
    }
   ],
   "source": [
    "from sklearn.ensemble import RandomForestClassifier\n",
    "model1  = RandomForestClassifier(random_state=1,max_depth= 30, min_samples_leaf= 1, min_samples_split= 2, n_estimators= 100)\n",
    "model1.fit(features_train, labels_train)\n",
    "model_predictions = model1.predict(features_test)\n",
    "print('Accuracy: ', accuracy_score(labels_test, model_predictions))\n",
    "print(classification_report(labels_test, model_predictions))"
   ]
  },
  {
   "cell_type": "markdown",
   "metadata": {},
   "source": [
    "# Logistic Regression"
   ]
  },
  {
   "cell_type": "code",
   "execution_count": 100,
   "metadata": {},
   "outputs": [
    {
     "name": "stdout",
     "output_type": "stream",
     "text": [
      "{'C': 1.0, 'class_weight': None, 'dual': False, 'fit_intercept': True, 'intercept_scaling': 1, 'l1_ratio': None, 'max_iter': 100, 'multi_class': 'auto', 'n_jobs': None, 'penalty': 'l2', 'random_state': None, 'solver': 'lbfgs', 'tol': 0.0001, 'verbose': 0, 'warm_start': False}\n",
      "Accuracy:  0.7352941176470589\n",
      "              precision    recall  f1-score   support\n",
      "\n",
      "           0       0.61      0.61      0.61        46\n",
      "           1       0.80      0.80      0.80        59\n",
      "           2       0.88      0.52      0.65        27\n",
      "           3       0.80      0.77      0.78        52\n",
      "           4       0.64      0.82      0.72        56\n",
      "           5       0.79      0.76      0.78        66\n",
      "\n",
      "    accuracy                           0.74       306\n",
      "   macro avg       0.75      0.71      0.72       306\n",
      "weighted avg       0.75      0.74      0.73       306\n",
      "\n"
     ]
    }
   ],
   "source": [
    "model = LogisticRegression()\n",
    "print(model.get_params())\n",
    "model.fit(features_train, labels_train)\n",
    "model_predictions = model.predict(features_test)\n",
    "print('Accuracy: ', accuracy_score(labels_test, model_predictions))\n",
    "print(classification_report(labels_test, model_predictions))"
   ]
  },
  {
   "cell_type": "markdown",
   "metadata": {},
   "source": [
    "# Hyper Parameter Tuning (Logistic Regression)"
   ]
  },
  {
   "cell_type": "code",
   "execution_count": 101,
   "metadata": {},
   "outputs": [
    {
     "name": "stdout",
     "output_type": "stream",
     "text": [
      "Fitting 3 folds for each of 6 candidates, totalling 18 fits\n"
     ]
    },
    {
     "data": {
      "text/plain": [
       "{'C': 1, 'penalty': 'l2'}"
      ]
     },
     "execution_count": 101,
     "metadata": {},
     "output_type": "execute_result"
    }
   ],
   "source": [
    "param_grid = {'C': [0.1,0.001,1],\n",
    "    # Create a list of options for the regularization penalty\n",
    "    'penalty' : ['l1', 'l2'] }\n",
    "clf = GridSearchCV(model, param_grid, cv = 3, verbose = 1)\n",
    "\n",
    "bestF = clf.fit(features_train, labels_train)\n",
    "bestF.best_params_"
   ]
  },
  {
   "cell_type": "code",
   "execution_count": 102,
   "metadata": {},
   "outputs": [
    {
     "name": "stdout",
     "output_type": "stream",
     "text": [
      "Accuracy:  0.7352941176470589\n",
      "              precision    recall  f1-score   support\n",
      "\n",
      "           0       0.61      0.61      0.61        46\n",
      "           1       0.80      0.80      0.80        59\n",
      "           2       0.88      0.52      0.65        27\n",
      "           3       0.80      0.77      0.78        52\n",
      "           4       0.64      0.82      0.72        56\n",
      "           5       0.79      0.76      0.78        66\n",
      "\n",
      "    accuracy                           0.74       306\n",
      "   macro avg       0.75      0.71      0.72       306\n",
      "weighted avg       0.75      0.74      0.73       306\n",
      "\n"
     ]
    }
   ],
   "source": [
    "model = LogisticRegression(C=1)\n",
    "model.fit(features_train, labels_train)\n",
    "model_predictions = model.predict(features_test)\n",
    "print('Accuracy: ', accuracy_score(labels_test, model_predictions))\n",
    "print(classification_report(labels_test, model_predictions))"
   ]
  },
  {
   "cell_type": "markdown",
   "metadata": {},
   "source": [
    "# KNeighborsClassifier"
   ]
  },
  {
   "cell_type": "markdown",
   "metadata": {},
   "source": [
    "Accuracy remains the same after hyper paramter tuning"
   ]
  },
  {
   "cell_type": "code",
   "execution_count": 103,
   "metadata": {},
   "outputs": [
    {
     "name": "stdout",
     "output_type": "stream",
     "text": [
      "Accuracy:  0.6633986928104575\n",
      "              precision    recall  f1-score   support\n",
      "\n",
      "           0       0.48      0.63      0.54        46\n",
      "           1       0.63      0.75      0.68        59\n",
      "           2       0.73      0.59      0.65        27\n",
      "           3       0.84      0.62      0.71        52\n",
      "           4       0.64      0.61      0.62        56\n",
      "           5       0.77      0.73      0.75        66\n",
      "\n",
      "    accuracy                           0.66       306\n",
      "   macro avg       0.68      0.65      0.66       306\n",
      "weighted avg       0.68      0.66      0.67       306\n",
      "\n"
     ]
    }
   ],
   "source": [
    "model = KNeighborsClassifier()\n",
    "model.fit(features_train, labels_train)\n",
    "model_predictions = model.predict(features_test)\n",
    "print('Accuracy: ', accuracy_score(labels_test, model_predictions))\n",
    "print(classification_report(labels_test, model_predictions))"
   ]
  },
  {
   "cell_type": "code",
   "execution_count": 104,
   "metadata": {},
   "outputs": [
    {
     "data": {
      "text/plain": [
       "{'algorithm': 'auto',\n",
       " 'leaf_size': 30,\n",
       " 'metric': 'minkowski',\n",
       " 'metric_params': None,\n",
       " 'n_jobs': None,\n",
       " 'n_neighbors': 5,\n",
       " 'p': 2,\n",
       " 'weights': 'uniform'}"
      ]
     },
     "execution_count": 104,
     "metadata": {},
     "output_type": "execute_result"
    }
   ],
   "source": [
    "model.get_params()"
   ]
  },
  {
   "cell_type": "markdown",
   "metadata": {},
   "source": [
    "# Hyper Paramaters Tuning (KNeighborsClassifier)"
   ]
  },
  {
   "cell_type": "code",
   "execution_count": 105,
   "metadata": {},
   "outputs": [
    {
     "name": "stdout",
     "output_type": "stream",
     "text": [
      "Fitting 5 folds for each of 21 candidates, totalling 105 fits\n"
     ]
    }
   ],
   "source": [
    "from sklearn.model_selection import GridSearchCV\n",
    "params_KNN = {'n_neighbors': [1, 2, 3, 4, 5, 6, 7], \n",
    "              'p': [1, 2, 5]}\n",
    "\n",
    "\n",
    "gridF = GridSearchCV(model, params_KNN, cv = 5, verbose = 1, \n",
    "                      n_jobs = -1)\n",
    "bestF = gridF.fit(features_train, labels_train)"
   ]
  },
  {
   "cell_type": "code",
   "execution_count": 106,
   "metadata": {},
   "outputs": [
    {
     "data": {
      "text/plain": [
       "{'n_neighbors': 1, 'p': 2}"
      ]
     },
     "execution_count": 106,
     "metadata": {},
     "output_type": "execute_result"
    }
   ],
   "source": [
    "bestF.best_params_"
   ]
  },
  {
   "cell_type": "code",
   "execution_count": 107,
   "metadata": {},
   "outputs": [
    {
     "name": "stdout",
     "output_type": "stream",
     "text": [
      "Accuracy:  0.6503267973856209\n",
      "              precision    recall  f1-score   support\n",
      "\n",
      "           0       0.47      0.59      0.52        46\n",
      "           1       0.70      0.73      0.72        59\n",
      "           2       0.78      0.52      0.62        27\n",
      "           3       0.82      0.63      0.72        52\n",
      "           4       0.58      0.59      0.58        56\n",
      "           5       0.67      0.74      0.71        66\n",
      "\n",
      "    accuracy                           0.65       306\n",
      "   macro avg       0.67      0.63      0.64       306\n",
      "weighted avg       0.67      0.65      0.65       306\n",
      "\n"
     ]
    }
   ],
   "source": [
    "model = KNeighborsClassifier(n_neighbors=7,p=2)\n",
    "model.fit(features_train, labels_train)\n",
    "model_predictions = model.predict(features_test)\n",
    "print('Accuracy: ', accuracy_score(labels_test, model_predictions))\n",
    "print(classification_report(labels_test, model_predictions))"
   ]
  },
  {
   "cell_type": "markdown",
   "metadata": {},
   "source": [
    "# Decision Tree"
   ]
  },
  {
   "cell_type": "code",
   "execution_count": 108,
   "metadata": {},
   "outputs": [
    {
     "name": "stdout",
     "output_type": "stream",
     "text": [
      "Accuracy:  0.8627450980392157\n",
      "              precision    recall  f1-score   support\n",
      "\n",
      "           0       0.84      0.80      0.82        46\n",
      "           1       0.92      0.81      0.86        59\n",
      "           2       0.83      0.89      0.86        27\n",
      "           3       0.96      0.88      0.92        52\n",
      "           4       0.79      0.93      0.85        56\n",
      "           5       0.85      0.86      0.86        66\n",
      "\n",
      "    accuracy                           0.86       306\n",
      "   macro avg       0.86      0.86      0.86       306\n",
      "weighted avg       0.87      0.86      0.86       306\n",
      "\n"
     ]
    }
   ],
   "source": [
    "model = DecisionTreeClassifier(random_state=1)\n",
    "model.fit(features_train, labels_train)\n",
    "model_predictions = model.predict(features_test)\n",
    "print('Accuracy: ', accuracy_score(labels_test, model_predictions))\n",
    "print(classification_report(labels_test, model_predictions))"
   ]
  },
  {
   "cell_type": "code",
   "execution_count": 109,
   "metadata": {},
   "outputs": [
    {
     "data": {
      "text/plain": [
       "{'ccp_alpha': 0.0,\n",
       " 'class_weight': None,\n",
       " 'criterion': 'gini',\n",
       " 'max_depth': None,\n",
       " 'max_features': None,\n",
       " 'max_leaf_nodes': None,\n",
       " 'min_impurity_decrease': 0.0,\n",
       " 'min_impurity_split': None,\n",
       " 'min_samples_leaf': 1,\n",
       " 'min_samples_split': 2,\n",
       " 'min_weight_fraction_leaf': 0.0,\n",
       " 'random_state': 1,\n",
       " 'splitter': 'best'}"
      ]
     },
     "execution_count": 109,
     "metadata": {},
     "output_type": "execute_result"
    }
   ],
   "source": [
    "model.get_params()"
   ]
  },
  {
   "cell_type": "markdown",
   "metadata": {},
   "source": [
    "# Hyper Paramter Tuning (Decision Tree)"
   ]
  },
  {
   "cell_type": "code",
   "execution_count": 110,
   "metadata": {},
   "outputs": [
    {
     "name": "stdout",
     "output_type": "stream",
     "text": [
      "Fitting 3 folds for each of 10 candidates, totalling 30 fits\n"
     ]
    }
   ],
   "source": [
    "import numpy as np\n",
    "from scipy.stats import randint\n",
    "from sklearn.model_selection import GridSearchCV,RandomizedSearchCV\n",
    "\n",
    "min_samples_leaf = randint(1,9)\n",
    "\n",
    "criterion = ['gini', 'entropy']\n",
    "max_depth = [3,None]\n",
    "\n",
    "\n",
    "\n",
    "hyperF = dict(max_depth=max_depth,\n",
    "                      criterion=criterion,\n",
    "                      min_samples_leaf=min_samples_leaf)\n",
    "\n",
    "model  = DecisionTreeClassifier(random_state=1)\n",
    "gridF = RandomizedSearchCV(model, hyperF, cv = 3, verbose = 1)\n",
    "bestF = gridF.fit(features_train, labels_train)"
   ]
  },
  {
   "cell_type": "code",
   "execution_count": 111,
   "metadata": {},
   "outputs": [
    {
     "data": {
      "text/plain": [
       "{'criterion': 'gini', 'max_depth': None, 'min_samples_leaf': 1}"
      ]
     },
     "execution_count": 111,
     "metadata": {},
     "output_type": "execute_result"
    }
   ],
   "source": [
    "bestF.best_params_"
   ]
  },
  {
   "cell_type": "code",
   "execution_count": 112,
   "metadata": {},
   "outputs": [
    {
     "name": "stdout",
     "output_type": "stream",
     "text": [
      "Accuracy:  0.6405228758169934\n",
      "              precision    recall  f1-score   support\n",
      "\n",
      "           0       0.54      0.61      0.57        46\n",
      "           1       0.68      0.66      0.67        59\n",
      "           2       0.73      0.59      0.65        27\n",
      "           3       0.80      0.71      0.76        52\n",
      "           4       0.63      0.55      0.59        56\n",
      "           5       0.56      0.68      0.62        66\n",
      "\n",
      "    accuracy                           0.64       306\n",
      "   macro avg       0.66      0.63      0.64       306\n",
      "weighted avg       0.65      0.64      0.64       306\n",
      "\n"
     ]
    }
   ],
   "source": [
    "model = DecisionTreeClassifier(random_state=1,criterion= 'entropy', max_depth= None,min_samples_leaf=6)\n",
    "model.fit(features_train, labels_train)\n",
    "model_predictions = model.predict(features_test)\n",
    "print('Accuracy: ', accuracy_score(labels_test, model_predictions))\n",
    "print(classification_report(labels_test, model_predictions))"
   ]
  },
  {
   "cell_type": "markdown",
   "metadata": {},
   "source": [
    "# GaussianNB"
   ]
  },
  {
   "cell_type": "code",
   "execution_count": 113,
   "metadata": {},
   "outputs": [
    {
     "name": "stdout",
     "output_type": "stream",
     "text": [
      "Accuracy:  0.6797385620915033\n",
      "              precision    recall  f1-score   support\n",
      "\n",
      "           0       0.48      0.76      0.59        46\n",
      "           1       0.76      0.69      0.73        59\n",
      "           2       0.44      1.00      0.61        27\n",
      "           3       0.89      0.65      0.76        52\n",
      "           4       0.83      0.54      0.65        56\n",
      "           5       0.93      0.62      0.75        66\n",
      "\n",
      "    accuracy                           0.68       306\n",
      "   macro avg       0.72      0.71      0.68       306\n",
      "weighted avg       0.76      0.68      0.69       306\n",
      "\n"
     ]
    }
   ],
   "source": [
    "model = GaussianNB()\n",
    "model.fit(features_train, labels_train)\n",
    "model_predictions = model.predict(features_test)\n",
    "print('Accuracy: ', accuracy_score(labels_test, model_predictions))\n",
    "print(classification_report(labels_test, model_predictions))"
   ]
  },
  {
   "cell_type": "markdown",
   "metadata": {},
   "source": [
    "# Doc2Vec"
   ]
  },
  {
   "cell_type": "code",
   "execution_count": 114,
   "metadata": {},
   "outputs": [],
   "source": [
    "bbc = pd.DataFrame()"
   ]
  },
  {
   "cell_type": "code",
   "execution_count": 115,
   "metadata": {},
   "outputs": [],
   "source": [
    "bbc['Text'] = data['Text_parsed']"
   ]
  },
  {
   "cell_type": "code",
   "execution_count": 116,
   "metadata": {},
   "outputs": [],
   "source": [
    "bbc['category'] = data['category_target']"
   ]
  },
  {
   "cell_type": "code",
   "execution_count": 117,
   "metadata": {},
   "outputs": [
    {
     "data": {
      "text/html": [
       "<div>\n",
       "<style scoped>\n",
       "    .dataframe tbody tr th:only-of-type {\n",
       "        vertical-align: middle;\n",
       "    }\n",
       "\n",
       "    .dataframe tbody tr th {\n",
       "        vertical-align: top;\n",
       "    }\n",
       "\n",
       "    .dataframe thead th {\n",
       "        text-align: right;\n",
       "    }\n",
       "</style>\n",
       "<table border=\"1\" class=\"dataframe\">\n",
       "  <thead>\n",
       "    <tr style=\"text-align: right;\">\n",
       "      <th></th>\n",
       "      <th>Text</th>\n",
       "      <th>category</th>\n",
       "    </tr>\n",
       "  </thead>\n",
       "  <tbody>\n",
       "    <tr>\n",
       "      <th>0</th>\n",
       "      <td>tv future in the hands of viewers with home th...</td>\n",
       "      <td>5</td>\n",
       "    </tr>\n",
       "    <tr>\n",
       "      <th>1</th>\n",
       "      <td>Microsoft Is Retiring Internet Explorer in 202...</td>\n",
       "      <td>5</td>\n",
       "    </tr>\n",
       "    <tr>\n",
       "      <th>2</th>\n",
       "      <td>Cryptocurrency Market Sees a Massive Dip as Bi...</td>\n",
       "      <td>5</td>\n",
       "    </tr>\n",
       "    <tr>\n",
       "      <th>3</th>\n",
       "      <td>NASA Releases Stunning Image Of Huge Glacier M...</td>\n",
       "      <td>5</td>\n",
       "    </tr>\n",
       "    <tr>\n",
       "      <th>4</th>\n",
       "      <td>OnePlus 9R Getting OxygenOS 11.2.1.2 in India ...</td>\n",
       "      <td>5</td>\n",
       "    </tr>\n",
       "  </tbody>\n",
       "</table>\n",
       "</div>"
      ],
      "text/plain": [
       "                                                Text  category\n",
       "0  tv future in the hands of viewers with home th...         5\n",
       "1  Microsoft Is Retiring Internet Explorer in 202...         5\n",
       "2  Cryptocurrency Market Sees a Massive Dip as Bi...         5\n",
       "3  NASA Releases Stunning Image Of Huge Glacier M...         5\n",
       "4  OnePlus 9R Getting OxygenOS 11.2.1.2 in India ...         5"
      ]
     },
     "execution_count": 117,
     "metadata": {},
     "output_type": "execute_result"
    }
   ],
   "source": [
    "bbc.head()"
   ]
  },
  {
   "cell_type": "code",
   "execution_count": 118,
   "metadata": {},
   "outputs": [],
   "source": [
    "# from tqdm import tqdm\n",
    "# tqdm.pandas(desc=\"progress-bar\")\n",
    "# # from gensim.models import Doc2Vec\n",
    "# from sklearn import utils\n",
    "# # import gensim\n",
    "# # from gensim.models.doc2vec import TaggedDocument\n",
    "# import re\n",
    "\n",
    "# # def label_sentences(corpus, label_type):\n",
    "# #     \"\"\"\n",
    "# #     Gensim's Doc2Vec implementation requires each document/paragraph to have a label associated with it.\n",
    "# #     We do this by using the TaggedDocument method. The format will be \"TRAIN_i\" or \"TEST_i\" where \"i\" is\n",
    "# #     a dummy index of the post.\n",
    "# #     \"\"\"\n",
    "# #     labeled = []\n",
    "\n",
    "    \n",
    "# #     for i, v in enumerate(corpus):\n",
    "# #         label = label_type + '_' + str(i)\n",
    "# #         labeled.append(TaggedDocument(v.split(), [label]))\n",
    "    \n",
    "# #     return labeled\n",
    "\n",
    "\n",
    "# X_train, X_test, y_train, y_test = train_test_split(data.Text, data.category, random_state=0, test_size=0.3)\n",
    "\n",
    "# X_train = label_sentences(X_train, 'Train')\n",
    "# X_test = label_sentences(X_test, 'Test')\n",
    "# all_data = X_train + X_test"
   ]
  },
  {
   "cell_type": "code",
   "execution_count": 119,
   "metadata": {},
   "outputs": [],
   "source": [
    "# all_data[0:2]"
   ]
  },
  {
   "cell_type": "code",
   "execution_count": 120,
   "metadata": {},
   "outputs": [],
   "source": [
    "# import numpy as np\n",
    "# def get_vectors(model, corpus_size, vectors_size, vectors_type):\n",
    "#     \"\"\"\n",
    "#     Get vectors from trained doc2vec model\n",
    "#     :param doc2vec_model: Trained Doc2Vec model\n",
    "#     :param corpus_size: Size of the data\n",
    "#     :param vectors_size: Size of the embedding vectors\n",
    "#     :param vectors_type: Training or Testing vectors\n",
    "#     :return: list of vectors\n",
    "#     \"\"\"\n",
    "#     vectors = np.zeros((corpus_size, vectors_size))\n",
    "#     for i in range(0, corpus_size):\n",
    "#         prefix = vectors_type + '_' + str(i)\n",
    "#         vectors[i] = model.docvecs[prefix]\n",
    "#     return vectors\n",
    "    \n",
    "# train_vectors_dbow = get_vectors(model_dbow, len(X_train), 300, 'Train')\n",
    "# test_vectors_dbow = get_vectors(model_dbow, len(X_test), 300, 'Test')"
   ]
  },
  {
   "cell_type": "markdown",
   "metadata": {},
   "source": [
    "# Logistic Regression"
   ]
  },
  {
   "cell_type": "code",
   "execution_count": 121,
   "metadata": {},
   "outputs": [
    {
     "name": "stdout",
     "output_type": "stream",
     "text": [
      "accuracy 0.8006535947712419\n",
      "              precision    recall  f1-score   support\n",
      "\n",
      "           0       0.67      0.67      0.67        46\n",
      "           1       0.83      0.90      0.86        59\n",
      "           2       0.80      0.74      0.77        27\n",
      "           3       0.85      0.79      0.82        52\n",
      "           4       0.81      0.84      0.82        56\n",
      "           5       0.82      0.80      0.81        66\n",
      "\n",
      "    accuracy                           0.80       306\n",
      "   macro avg       0.80      0.79      0.79       306\n",
      "weighted avg       0.80      0.80      0.80       306\n",
      "\n"
     ]
    }
   ],
   "source": [
    "model = LogisticRegression(n_jobs=1, C=1e5)\n",
    "model = model.fit(features_train, y_train)\n",
    "model_prediction = model.predict(features_test)\n",
    "print('accuracy %s' % accuracy_score(model_prediction, y_test))\n",
    "print(classification_report(y_test, model_prediction))"
   ]
  },
  {
   "cell_type": "code",
   "execution_count": 122,
   "metadata": {},
   "outputs": [
    {
     "name": "stdout",
     "output_type": "stream",
     "text": [
      "accuracy 0.6797385620915033\n",
      "              precision    recall  f1-score   support\n",
      "\n",
      "           0       0.48      0.76      0.59        46\n",
      "           1       0.76      0.69      0.73        59\n",
      "           2       0.44      1.00      0.61        27\n",
      "           3       0.89      0.65      0.76        52\n",
      "           4       0.83      0.54      0.65        56\n",
      "           5       0.93      0.62      0.75        66\n",
      "\n",
      "    accuracy                           0.68       306\n",
      "   macro avg       0.72      0.71      0.68       306\n",
      "weighted avg       0.76      0.68      0.69       306\n",
      "\n"
     ]
    }
   ],
   "source": [
    "model = GaussianNB()\n",
    "model = model.fit(features_train, y_train)\n",
    "model_prediction = model.predict(features_test)\n",
    "print('accuracy %s' % accuracy_score(model_prediction, y_test))\n",
    "print(classification_report(y_test, model_prediction))"
   ]
  },
  {
   "cell_type": "markdown",
   "metadata": {},
   "source": [
    "# Random Forest"
   ]
  },
  {
   "cell_type": "code",
   "execution_count": 123,
   "metadata": {},
   "outputs": [
    {
     "name": "stdout",
     "output_type": "stream",
     "text": [
      "accuracy 0.8758169934640523\n",
      "              precision    recall  f1-score   support\n",
      "\n",
      "           0       0.88      0.76      0.81        46\n",
      "           1       0.87      0.92      0.89        59\n",
      "           2       0.83      0.89      0.86        27\n",
      "           3       0.96      0.85      0.90        52\n",
      "           4       0.84      0.96      0.90        56\n",
      "           5       0.88      0.86      0.87        66\n",
      "\n",
      "    accuracy                           0.88       306\n",
      "   macro avg       0.88      0.87      0.87       306\n",
      "weighted avg       0.88      0.88      0.88       306\n",
      "\n"
     ]
    }
   ],
   "source": [
    "model = RandomForestClassifier()\n",
    "model = model.fit(features_train, y_train)\n",
    "model_prediction = model.predict(features_test)\n",
    "print('accuracy %s' % accuracy_score(model_prediction, y_test))\n",
    "print(classification_report(y_test, model_prediction))"
   ]
  },
  {
   "cell_type": "markdown",
   "metadata": {},
   "source": [
    "# Hyper Parameter Tuning (Random Forest)"
   ]
  },
  {
   "cell_type": "code",
   "execution_count": 124,
   "metadata": {},
   "outputs": [
    {
     "name": "stdout",
     "output_type": "stream",
     "text": [
      "Fitting 3 folds for each of 500 candidates, totalling 1500 fits\n"
     ]
    }
   ],
   "source": [
    "from sklearn.model_selection import GridSearchCV\n",
    "n_estimators = [100, 300, 500, 800, 1200]\n",
    "max_depth = [5, 8, 15, 25, 30]\n",
    "min_samples_split = [2, 5, 10, 15, 100]\n",
    "min_samples_leaf = [1, 2, 5, 10] \n",
    "\n",
    "hyperF = dict(n_estimators = n_estimators, max_depth = max_depth,  \n",
    "              min_samples_split = min_samples_split, \n",
    "             min_samples_leaf = min_samples_leaf)\n",
    "\n",
    "gridF = GridSearchCV(model, hyperF, cv = 3, verbose = 1, \n",
    "                      n_jobs = -1)\n",
    "bestF = gridF.fit(features_train, y_train)"
   ]
  },
  {
   "cell_type": "code",
   "execution_count": 125,
   "metadata": {},
   "outputs": [
    {
     "data": {
      "text/plain": [
       "{'max_depth': 30,\n",
       " 'min_samples_leaf': 1,\n",
       " 'min_samples_split': 2,\n",
       " 'n_estimators': 300}"
      ]
     },
     "execution_count": 125,
     "metadata": {},
     "output_type": "execute_result"
    }
   ],
   "source": [
    "bestF.best_params_"
   ]
  },
  {
   "cell_type": "code",
   "execution_count": 126,
   "metadata": {},
   "outputs": [
    {
     "name": "stdout",
     "output_type": "stream",
     "text": [
      "accuracy 0.6437908496732027\n",
      "              precision    recall  f1-score   support\n",
      "\n",
      "           0       1.00      0.41      0.58        46\n",
      "           1       1.00      0.54      0.70        59\n",
      "           2       0.86      0.44      0.59        27\n",
      "           3       1.00      0.60      0.75        52\n",
      "           4       0.35      1.00      0.51        56\n",
      "           5       0.98      0.71      0.82        66\n",
      "\n",
      "    accuracy                           0.64       306\n",
      "   macro avg       0.86      0.62      0.66       306\n",
      "weighted avg       0.86      0.64      0.67       306\n",
      "\n"
     ]
    }
   ],
   "source": [
    "model = RandomForestClassifier(max_depth=15,min_samples_leaf=1,min_samples_split=2,n_estimators=1200)\n",
    "model = model.fit(features_train, y_train)\n",
    "model_prediction = model.predict(features_test)\n",
    "print('accuracy %s' % accuracy_score(model_prediction, y_test))\n",
    "print(classification_report(y_test, model_prediction))"
   ]
  },
  {
   "cell_type": "markdown",
   "metadata": {},
   "source": [
    "# Decision Tree"
   ]
  },
  {
   "cell_type": "code",
   "execution_count": 127,
   "metadata": {},
   "outputs": [
    {
     "name": "stdout",
     "output_type": "stream",
     "text": [
      "accuracy 0.8562091503267973\n",
      "              precision    recall  f1-score   support\n",
      "\n",
      "           0       0.84      0.80      0.82        46\n",
      "           1       0.92      0.81      0.86        59\n",
      "           2       0.83      0.89      0.86        27\n",
      "           3       0.96      0.85      0.90        52\n",
      "           4       0.76      0.93      0.84        56\n",
      "           5       0.85      0.86      0.86        66\n",
      "\n",
      "    accuracy                           0.86       306\n",
      "   macro avg       0.86      0.86      0.86       306\n",
      "weighted avg       0.86      0.86      0.86       306\n",
      "\n"
     ]
    }
   ],
   "source": [
    "train_vectors_dbow = features_train\n",
    "test_vectors_dbow = features_test\n",
    "model = DecisionTreeClassifier()\n",
    "model = model.fit(train_vectors_dbow, y_train)\n",
    "model_prediction = model.predict(test_vectors_dbow)\n",
    "print('accuracy %s' % accuracy_score(model_prediction, y_test))\n",
    "print(classification_report(y_test, model_prediction))"
   ]
  },
  {
   "cell_type": "markdown",
   "metadata": {},
   "source": [
    "# Hyper Parameter Tuning (Decision Tree)"
   ]
  },
  {
   "cell_type": "code",
   "execution_count": 128,
   "metadata": {},
   "outputs": [
    {
     "name": "stdout",
     "output_type": "stream",
     "text": [
      "Fitting 3 folds for each of 10 candidates, totalling 30 fits\n"
     ]
    }
   ],
   "source": [
    "import numpy as np\n",
    "from scipy.stats import randint\n",
    "from sklearn.model_selection import GridSearchCV,RandomizedSearchCV\n",
    "\n",
    "min_samples_leaf = randint(1,9)\n",
    "\n",
    "criterion = ['gini', 'entropy']\n",
    "max_depth = [3,None]\n",
    "\n",
    "\n",
    "\n",
    "hyperF = dict(max_depth=max_depth,\n",
    "                      criterion=criterion,\n",
    "                      min_samples_leaf=min_samples_leaf)\n",
    "\n",
    "model  = DecisionTreeClassifier(random_state=1)\n",
    "gridF = RandomizedSearchCV(model, hyperF, cv = 3, verbose = 1)\n",
    "bestF = gridF.fit(train_vectors_dbow, y_train)"
   ]
  },
  {
   "cell_type": "code",
   "execution_count": 129,
   "metadata": {},
   "outputs": [
    {
     "data": {
      "text/plain": [
       "{'criterion': 'gini', 'max_depth': None, 'min_samples_leaf': 1}"
      ]
     },
     "execution_count": 129,
     "metadata": {},
     "output_type": "execute_result"
    }
   ],
   "source": [
    "bestF.best_params_"
   ]
  },
  {
   "cell_type": "code",
   "execution_count": 130,
   "metadata": {},
   "outputs": [
    {
     "name": "stdout",
     "output_type": "stream",
     "text": [
      "accuracy 0.6241830065359477\n",
      "              precision    recall  f1-score   support\n",
      "\n",
      "           0       0.47      0.80      0.60        46\n",
      "           1       0.69      0.63      0.65        59\n",
      "           2       0.73      0.59      0.65        27\n",
      "           3       0.76      0.73      0.75        52\n",
      "           4       0.54      0.48      0.51        56\n",
      "           5       0.69      0.55      0.61        66\n",
      "\n",
      "    accuracy                           0.62       306\n",
      "   macro avg       0.65      0.63      0.63       306\n",
      "weighted avg       0.64      0.62      0.63       306\n",
      "\n"
     ]
    }
   ],
   "source": [
    "model = DecisionTreeClassifier(criterion='entropy',max_depth=None,min_samples_leaf=7)\n",
    "model = model.fit(train_vectors_dbow, y_train)\n",
    "model_prediction = model.predict(test_vectors_dbow)\n",
    "print('accuracy %s' % accuracy_score(model_prediction, y_test))\n",
    "print(classification_report(y_test, model_prediction))"
   ]
  },
  {
   "cell_type": "markdown",
   "metadata": {},
   "source": [
    "# KNeighborsClassifier"
   ]
  },
  {
   "cell_type": "code",
   "execution_count": 131,
   "metadata": {},
   "outputs": [
    {
     "name": "stdout",
     "output_type": "stream",
     "text": [
      "accuracy 0.6633986928104575\n",
      "              precision    recall  f1-score   support\n",
      "\n",
      "           0       0.48      0.63      0.54        46\n",
      "           1       0.63      0.75      0.68        59\n",
      "           2       0.73      0.59      0.65        27\n",
      "           3       0.84      0.62      0.71        52\n",
      "           4       0.64      0.61      0.62        56\n",
      "           5       0.77      0.73      0.75        66\n",
      "\n",
      "    accuracy                           0.66       306\n",
      "   macro avg       0.68      0.65      0.66       306\n",
      "weighted avg       0.68      0.66      0.67       306\n",
      "\n"
     ]
    }
   ],
   "source": [
    "model = KNeighborsClassifier()\n",
    "model = model.fit(train_vectors_dbow, y_train)\n",
    "model_prediction = model.predict(test_vectors_dbow)\n",
    "print('accuracy %s' % accuracy_score(model_prediction, y_test))\n",
    "print(classification_report(y_test, model_prediction))"
   ]
  },
  {
   "cell_type": "markdown",
   "metadata": {},
   "source": [
    "# Hyper Parameter Tuning (KNeighborsClassifier)"
   ]
  },
  {
   "cell_type": "code",
   "execution_count": 132,
   "metadata": {},
   "outputs": [
    {
     "name": "stdout",
     "output_type": "stream",
     "text": [
      "Fitting 5 folds for each of 21 candidates, totalling 105 fits\n"
     ]
    }
   ],
   "source": [
    "from sklearn.model_selection import GridSearchCV\n",
    "params_KNN = {'n_neighbors': [1, 2, 3, 4, 5, 6, 7], \n",
    "              'p': [1, 2, 5]}\n",
    "\n",
    "\n",
    "gridF = GridSearchCV(model, params_KNN, cv = 5, verbose = 1, \n",
    "                      n_jobs = -1)\n",
    "bestF = gridF.fit(train_vectors_dbow, y_train)"
   ]
  },
  {
   "cell_type": "code",
   "execution_count": 133,
   "metadata": {},
   "outputs": [
    {
     "data": {
      "text/plain": [
       "{'n_neighbors': 1, 'p': 2}"
      ]
     },
     "execution_count": 133,
     "metadata": {},
     "output_type": "execute_result"
    }
   ],
   "source": [
    "bestF.best_params_"
   ]
  },
  {
   "cell_type": "code",
   "execution_count": 134,
   "metadata": {},
   "outputs": [
    {
     "name": "stdout",
     "output_type": "stream",
     "text": [
      "accuracy 0.6437908496732027\n",
      "              precision    recall  f1-score   support\n",
      "\n",
      "           0       0.47      0.63      0.54        46\n",
      "           1       0.65      0.76      0.70        59\n",
      "           2       0.78      0.52      0.62        27\n",
      "           3       0.80      0.62      0.70        52\n",
      "           4       0.57      0.55      0.56        56\n",
      "           5       0.73      0.70      0.71        66\n",
      "\n",
      "    accuracy                           0.64       306\n",
      "   macro avg       0.67      0.63      0.64       306\n",
      "weighted avg       0.66      0.64      0.65       306\n",
      "\n"
     ]
    }
   ],
   "source": [
    "model = KNeighborsClassifier(n_neighbors=6,p=2)\n",
    "model = model.fit(train_vectors_dbow, y_train)\n",
    "model_prediction = model.predict(test_vectors_dbow)\n",
    "print('accuracy %s' % accuracy_score(model_prediction, y_test))\n",
    "print(classification_report(y_test, model_prediction))"
   ]
  }
 ],
 "metadata": {
  "kernelspec": {
   "display_name": "Python 3",
   "language": "python",
   "name": "python3"
  },
  "language_info": {
   "codemirror_mode": {
    "name": "ipython",
    "version": 3
   },
   "file_extension": ".py",
   "mimetype": "text/x-python",
   "name": "python",
   "nbconvert_exporter": "python",
   "pygments_lexer": "ipython3",
   "version": "3.9.2"
  }
 },
 "nbformat": 4,
 "nbformat_minor": 2
}
